{
 "cells": [
  {
   "cell_type": "markdown",
   "id": "dimensional-minimum",
   "metadata": {
    "papermill": {
     "duration": 0.026631,
     "end_time": "2021-05-10T09:23:04.626167",
     "exception": false,
     "start_time": "2021-05-10T09:23:04.599536",
     "status": "completed"
    },
    "tags": []
   },
   "source": [
    "**This notebook is an exercise in the [Introduction to Machine Learning](https://www.kaggle.com/learn/intro-to-machine-learning) course.  You can reference the tutorial at [this link](https://www.kaggle.com/alexisbcook/machine-learning-competitions).**\n",
    "\n",
    "---\n"
   ]
  },
  {
   "cell_type": "markdown",
   "id": "opposed-behalf",
   "metadata": {
    "papermill": {
     "duration": 0.025814,
     "end_time": "2021-05-10T09:23:04.677463",
     "exception": false,
     "start_time": "2021-05-10T09:23:04.651649",
     "status": "completed"
    },
    "tags": []
   },
   "source": [
    "# Introduction\n",
    "\n",
    "In this exercise, you will create and submit predictions for a Kaggle competition. You can then improve your model (e.g. by adding features) to improve and see how you stack up to others taking this course.\n",
    "\n",
    "The steps in this notebook are:\n",
    "1. Build a Random Forest model with all of your data (**X** and **y**).\n",
    "2. Read in the \"test\" data, which doesn't include values for the target.  Predict home values in the test data with your Random Forest model.\n",
    "3. Submit those predictions to the competition and see your score.\n",
    "4. Optionally, come back to see if you can improve your model by adding features or changing your model. Then you can resubmit to see how that stacks up on the competition leaderboard."
   ]
  },
  {
   "cell_type": "markdown",
   "id": "proper-gauge",
   "metadata": {
    "papermill": {
     "duration": 0.023999,
     "end_time": "2021-05-10T09:23:04.725888",
     "exception": false,
     "start_time": "2021-05-10T09:23:04.701889",
     "status": "completed"
    },
    "tags": []
   },
   "source": [
    "## Recap\n",
    "Here's the code you've written so far. Start by running it again."
   ]
  },
  {
   "cell_type": "code",
   "execution_count": 1,
   "id": "polish-farmer",
   "metadata": {
    "execution": {
     "iopub.execute_input": "2021-05-10T09:23:04.788317Z",
     "iopub.status.busy": "2021-05-10T09:23:04.787435Z",
     "iopub.status.idle": "2021-05-10T09:23:07.166795Z",
     "shell.execute_reply": "2021-05-10T09:23:07.165652Z"
    },
    "papermill": {
     "duration": 2.416896,
     "end_time": "2021-05-10T09:23:07.166972",
     "exception": false,
     "start_time": "2021-05-10T09:23:04.750076",
     "status": "completed"
    },
    "tags": []
   },
   "outputs": [],
   "source": [
    "import matplotlib.pyplot as plt\n",
    "import numpy as np\n",
    "import pandas as pd\n",
    "import seaborn as sns\n",
    "import category_encoders as ce\n",
    "\n",
    "from sklearn.ensemble import RandomForestRegressor\n",
    "from sklearn.metrics import mean_absolute_error\n",
    "from sklearn.model_selection import train_test_split\n",
    "from sklearn.tree import DecisionTreeRegressor\n",
    "\n",
    "from sklearn.preprocessing import LabelEncoder\n",
    "from pandas.api.types import CategoricalDtype\n",
    "\n",
    "from category_encoders import MEstimateEncoder\n",
    "from sklearn.cluster import KMeans\n",
    "from sklearn.decomposition import PCA\n",
    "from sklearn.feature_selection import mutual_info_regression\n",
    "from sklearn.model_selection import KFold, cross_val_score\n",
    "from xgboost import XGBRegressor\n",
    "\n",
    "# Set up code checking\n",
    "import os\n",
    "if not os.path.exists(\"../input/train.csv\"):\n",
    "    os.symlink(\"../input/home-data-for-ml-course/train.csv\", \"../input/train.csv\")  \n",
    "    os.symlink(\"../input/home-data-for-ml-course/test.csv\", \"../input/test.csv\") \n",
    "from learntools.core import binder\n",
    "binder.bind(globals())\n",
    "from learntools.machine_learning.ex7 import *"
   ]
  },
  {
   "cell_type": "code",
   "execution_count": 2,
   "id": "stable-philip",
   "metadata": {
    "execution": {
     "iopub.execute_input": "2021-05-10T09:23:07.223432Z",
     "iopub.status.busy": "2021-05-10T09:23:07.222680Z",
     "iopub.status.idle": "2021-05-10T09:23:07.226253Z",
     "shell.execute_reply": "2021-05-10T09:23:07.225734Z"
    },
    "papermill": {
     "duration": 0.034467,
     "end_time": "2021-05-10T09:23:07.226414",
     "exception": false,
     "start_time": "2021-05-10T09:23:07.191947",
     "status": "completed"
    },
    "tags": []
   },
   "outputs": [],
   "source": [
    "def load_data():\n",
    "    df_train = pd.read_csv('../input/train.csv', index_col='Id')\n",
    "    df_test = pd.read_csv('../input/test.csv', index_col='Id')\n",
    "    # Merge the splits so we can process them together\n",
    "    df = pd.concat([df_train, df_test])\n",
    "    # Preprocessing\n",
    "    df = clean(df)\n",
    "    df = impute(df)\n",
    "    # Reform splits\n",
    "    df_train = df.loc[df_train.index, :]\n",
    "    df_test = df.loc[df_test.index, :]\n",
    "    return df_train, df_test"
   ]
  },
  {
   "cell_type": "code",
   "execution_count": 3,
   "id": "figured-scotland",
   "metadata": {
    "execution": {
     "iopub.execute_input": "2021-05-10T09:23:07.300949Z",
     "iopub.status.busy": "2021-05-10T09:23:07.295619Z",
     "iopub.status.idle": "2021-05-10T09:23:07.312299Z",
     "shell.execute_reply": "2021-05-10T09:23:07.312927Z"
    },
    "papermill": {
     "duration": 0.06202,
     "end_time": "2021-05-10T09:23:07.313125",
     "exception": false,
     "start_time": "2021-05-10T09:23:07.251105",
     "status": "completed"
    },
    "tags": []
   },
   "outputs": [],
   "source": [
    "def clean(df):\n",
    "    #MSSubClass should be converted to type object since it represents categorical data\n",
    "    df[\"MSSubClass\"] = df[\"MSSubClass\"].astype(str)\n",
    "    \n",
    "    df[\"Exterior2nd\"] = df[\"Exterior2nd\"].replace({\"Brk Cmn\": \"BrkComm\"})\n",
    "    \n",
    "    # Some values of GarageYrBlt are corrupt, so we'll replace them\n",
    "    # with the year the house was built\n",
    "    #df[\"GarageYrBlt\"] = df[\"GarageYrBlt\"].where(df.GarageYrBlt <= 2010, df.YearBuilt)\n",
    "    \n",
    "    # Names beginning with numbers are awkward to work with\n",
    "    df.rename(columns={\n",
    "        \"1stFlrSF\": \"FirstFlrSF\",\n",
    "        \"2ndFlrSF\": \"SecondFlrSF\",\n",
    "        \"3SsnPorch\": \"Threeseasonporch\",\n",
    "    }, inplace=True,\n",
    "    )\n",
    "    \n",
    "    rating_features = [\"OverallQual\", \"OverallCond\", \"ExterQual\", \"ExterCond\", \"BsmtQual\", \n",
    "                       \"BsmtCond\", \"HeatingQC\", \"KitchenQual\",\n",
    "                   \"FireplaceQu\", \"GarageQual\", \"GarageCond\", \"PoolQC\"]\n",
    "    \n",
    "    # Convert ratings based on their descriptions \n",
    "    replacement_dict = {\"Above_Average\": 6, \"Average\": 5, \"Below_Average\": 4, \"Excellent\":9, \"Fair\":3,\n",
    "       \"Good\": 7, \"Poor\": 2, \"Very_Excellent\": 10, \"Very_Good\": 8, \"Very_Poor\": 1}\n",
    "    df.replace({\"OverallQual\": replacement_dict},inplace=True)\n",
    "    df.replace({\"OverallCond\": replacement_dict},inplace=True)\n",
    "    \n",
    "    #YearBuilt must always be lower or equal to year remodelled \n",
    "    df.loc[1877, \"YearRemodAdd\"] = df.loc[1877, \"YearBuilt\"]\n",
    "    \n",
    "    #To correct YrSold values to YearRemodAdd\n",
    "    df.loc[524, \"YrSold\"] = df.loc[524,\"YearRemodAdd\"]\n",
    "    df.loc[2296, \"YrSold\"] = df.loc[2296,\"YearRemodAdd\"]\n",
    "    df.loc[2550, \"YrSold\"] = df.loc[2550,\"YearRemodAdd\"]\n",
    "    \n",
    "    #If MasVnrType is None, then MasVnrArea is 0\n",
    "    check = df[(df[\"MasVnrType\"]==\"None\") & (df[\"MasVnrArea\"]!=0)]\n",
    "    df.loc[check.index, \"MasVnrArea\"] = 0\n",
    "    \n",
    "    #some basement features are actual missing values, most of them just mean there is no basement, \n",
    "    #which is not a missing value\n",
    "    basement_features = [\"BsmtQual\", \"BsmtCond\", \"BsmtExposure\", \"BsmtFinType1\", \"BsmtFinSF1\", \"BsmtFinType2\", \n",
    "                         \"BsmtFinSF2\", \"BsmtUnfSF\", \"TotalBsmtSF\", \"BsmtFullBath\", \"BsmtHalfBath\"]\n",
    "    #Actual missing values\n",
    "    basement_missing = df[basement_features].isna()\n",
    "    basement_missing[\"basement_missing\"] = basement_missing.sum(axis=1)\n",
    "    basement_missing = basement_missing[(basement_missing[\"basement_missing\"] > 0) & \n",
    "                                    (basement_missing[\"basement_missing\"] < 5)]\n",
    "    \n",
    "    #Fill the categorical missing values where there is a basement\n",
    "    #Basement exposure is assumed to indicate the presence of a basement and \n",
    "    #missing values assumed to equal no basement\n",
    "    df[\"BsmtExposure\"].fillna(\"No_basement\", inplace=True) \n",
    "    df.loc[2218, \"BsmtQual\"] = df[\"BsmtQual\"].mode()[0]    \n",
    "    df.loc[2219, \"BsmtQual\"] = df[\"BsmtQual\"].mode()[0]\n",
    "    df.loc[2041, \"BsmtCond\"] = df[\"BsmtCond\"].mode()[0]\n",
    "    df.loc[2186, \"BsmtCond\"] = df[\"BsmtCond\"].mode()[0]\n",
    "    df.loc[2525, \"BsmtCond\"] = df[\"BsmtCond\"].mode()[0]\n",
    "    df.loc[333, \"BsmtFinType2\"] = df[\"BsmtFinType2\"].mode()[0]\n",
    "    \n",
    "    #all other missing categorical values are assumed to have no basement \n",
    "    df[\"BsmtQual\"].fillna(\"No_basement\", inplace=True)\n",
    "    df[\"BsmtFinType1\"].fillna(\"No_basement\", inplace=True)\n",
    "    df[\"BsmtFinType2\"].fillna(\"No_basement\", inplace=True)\n",
    "    df[\"BsmtCond\"].fillna(\"No_basement\", inplace=True)\n",
    "    \n",
    "    #Fill numerical missing values\n",
    "    df[\"BsmtFinSF1\"].fillna(0, inplace=True)\n",
    "    df[\"BsmtFinSF2\"].fillna(0, inplace=True)\n",
    "    df[\"BsmtUnfSF\"].fillna(0, inplace=True)\n",
    "    df[\"TotalBsmtSF\"].fillna(0, inplace=True)\n",
    "    df[\"BsmtFullBath\"].fillna(0, inplace=True)\n",
    "    \n",
    "    #Fill actual missing numerical values with mode and categorical with no basement \n",
    "    bsmnt_fill_mode = df.loc[basement_missing.index][[\"BsmtExposure\", \"BsmtFinType1\"]].replace(\"No_basement\", \n",
    "                            df[[\"BsmtExposure\", \"BsmtFinType1\"]].mode().T[0])\n",
    "    df.update(bsmnt_fill_mode)\n",
    "    \n",
    "    #some garage features are actual missing values, most of them just mean there is no garage, \n",
    "    #which is not a missing value\n",
    "    garage_features = [\"GarageType\", \"GarageYrBlt\", \"GarageFinish\", \"GarageCars\", \"GarageArea\", \"GarageQual\", \n",
    "                       \"GarageCond\"]\n",
    "    \n",
    "    #Actual missing values \n",
    "    garage_missing = df[garage_features].isna()\n",
    "    garage_missing[\"garage_missing\"] = garage_missing.sum(axis=1)\n",
    "    garage_missing = garage_missing[(garage_missing[\"garage_missing\"] > 0) & \n",
    "                                    (garage_missing[\"garage_missing\"] < 5)]\n",
    "    \n",
    "    #Fill categorical missing values where there is no basement\n",
    "    df[\"GarageType\"].fillna(\"No_garage\", inplace=True)\n",
    "    df[\"GarageFinish\"].fillna(\"No_garage\", inplace=True)\n",
    "    df[\"GarageQual\"].fillna(\"No_garage\", inplace=True)\n",
    "    df[\"GarageCond\"].fillna(\"No_garage\", inplace=True)\n",
    "    \n",
    "    #Fill numerical missing values\n",
    "    df[\"GarageYrBlt\"].fillna(0, inplace=True)\n",
    "    df[\"GarageArea\"].fillna(0, inplace=True)\n",
    "    df[\"GarageCars\"].fillna(0, inplace=True)\n",
    "    \n",
    "    #Fill missing values with mode\n",
    "    garage_fill_mode = df.loc[garage_missing.index][\"GarageFinish\"].replace(\"No_garage\", \n",
    "                                    df[\"GarageFinish\"].mode().T[0])\n",
    "    df.update(garage_fill_mode)\n",
    "    \n",
    "    #Fill categorical missing values where there is no fireplace\n",
    "    df[\"FireplaceQu\"].fillna(\"No_fireplace\", inplace=True)\n",
    "    \n",
    "    #Fill categorical missing values where there is a pool\n",
    "    df.loc[2421, \"PoolQC\"] = df[\"PoolQC\"].mode()[0]\n",
    "    df.loc[2504, \"PoolQC\"] = df[\"PoolQC\"].mode()[0]\n",
    "    df.loc[2600, \"PoolQC\"] = df[\"PoolQC\"].mode()[0]\n",
    "    \n",
    "    #Fill categorical missing values where there is no pool\n",
    "    df[\"PoolQC\"].fillna(\"No_Pool\", inplace=True)\n",
    "    \n",
    "    #Fill the missing value in Kitchen Quality\n",
    "    df.loc[1556, \"KitchenQual\"] = df[\"KitchenQual\"].mode()[0]\n",
    "    \n",
    "    #To convert ratings to numeric values using the scale in OverallQual\n",
    "    rating_features = [\"ExterQual\", \"ExterCond\", \"BsmtQual\", \"BsmtCond\", \"HeatingQC\", \"KitchenQual\",\n",
    "                   \"FireplaceQu\", \"GarageQual\", \"GarageCond\", \"PoolQC\"]\n",
    "    replacement_dict_2 = {\"Ex\": 9, \"Gd\": 7, \"TA\": 5, \"Fa\": 3, \"Po\": 1, \n",
    "                      \"No_fireplace\": 0, \"No_garage\": 0, \"No_basement\": 0, \"No_Pool\": 0}\n",
    "    for col in rating_features:\n",
    "        df[col] = df[col].map(replacement_dict_2)\n",
    "    \n",
    "    #To check YearBuilt and GarageYrBuilt are the same, for houses with a garage \n",
    "    date_features = [\"YearBuilt\", \"YearRemodAdd\", \"GarageYrBlt\", \"MoSold\", \"YrSold\"]\n",
    "    check_2 = df[(df[\"YearBuilt\"] > df[\"GarageYrBlt\"]) & (df[\"GarageYrBlt\"] != 0)][date_features]\n",
    "    df.loc[check_2.index, \"GarageYrBlt\"] = check_2[\"YearBuilt\"] \n",
    "    \n",
    "   \n",
    "    return df"
   ]
  },
  {
   "cell_type": "code",
   "execution_count": 4,
   "id": "attempted-perth",
   "metadata": {
    "execution": {
     "iopub.execute_input": "2021-05-10T09:23:07.372393Z",
     "iopub.status.busy": "2021-05-10T09:23:07.371503Z",
     "iopub.status.idle": "2021-05-10T09:23:07.374957Z",
     "shell.execute_reply": "2021-05-10T09:23:07.374260Z"
    },
    "papermill": {
     "duration": 0.037151,
     "end_time": "2021-05-10T09:23:07.375121",
     "exception": false,
     "start_time": "2021-05-10T09:23:07.337970",
     "status": "completed"
    },
    "tags": []
   },
   "outputs": [],
   "source": [
    "def impute(df):\n",
    "    categorical_columns = []\n",
    "    numeric_columns = []\n",
    "    for c in df.columns:\n",
    "        if df[c].map(type).eq(str).any(): #check if there are any strings in column\n",
    "            categorical_columns.append(c)\n",
    "        else:\n",
    "            numeric_columns.append(c)\n",
    "                \n",
    "    #create two DataFrames, one for each data type\n",
    "    data_numeric = df[numeric_columns]\n",
    "    data_categorical = pd.DataFrame(df[categorical_columns])\n",
    "    \n",
    "    for col in data_numeric.select_dtypes(include=np.number):\n",
    "        data_numeric[col] = data_numeric[col].fillna(data_numeric[col].mode()[0])\n",
    "        \n",
    "    for name in data_categorical:\n",
    "        data_categorical[name] = data_categorical[name].fillna(\"None\")\n",
    "        \n",
    "    #join the two masked dataframes back together\n",
    "    df = pd.concat([data_numeric, data_categorical], axis = 1) \n",
    "    return  df "
   ]
  },
  {
   "cell_type": "code",
   "execution_count": 5,
   "id": "precious-ceramic",
   "metadata": {
    "execution": {
     "iopub.execute_input": "2021-05-10T09:23:07.433392Z",
     "iopub.status.busy": "2021-05-10T09:23:07.432466Z",
     "iopub.status.idle": "2021-05-10T09:23:07.435657Z",
     "shell.execute_reply": "2021-05-10T09:23:07.434981Z"
    },
    "papermill": {
     "duration": 0.035742,
     "end_time": "2021-05-10T09:23:07.435809",
     "exception": false,
     "start_time": "2021-05-10T09:23:07.400067",
     "status": "completed"
    },
    "tags": []
   },
   "outputs": [],
   "source": [
    "def score_dataset(X, y, model=XGBRegressor(n_estimators=1000, learning_rate=0.05)):\n",
    "    # Label encoding for categoricals\n",
    "    label_encoder = LabelEncoder()\n",
    "    object_cols = [col for col in X.columns if X[col].dtype == \"object\"]\n",
    "    for col in object_cols: \n",
    "        X[col] = label_encoder.fit_transform(X[col])\n",
    "     # Metric for Housing competition is RMSLE (Root Mean Squared Log Error)\n",
    "    log_y = np.log(y)\n",
    "    score = cross_val_score(\n",
    "        model, X, log_y, cv=5, scoring=\"neg_mean_squared_error\",\n",
    "    )\n",
    "    score = -1 * score.mean()\n",
    "    score = np.sqrt(score)\n",
    "    return score"
   ]
  },
  {
   "cell_type": "code",
   "execution_count": 6,
   "id": "angry-greece",
   "metadata": {
    "execution": {
     "iopub.execute_input": "2021-05-10T09:23:07.493176Z",
     "iopub.status.busy": "2021-05-10T09:23:07.492511Z",
     "iopub.status.idle": "2021-05-10T09:23:23.986875Z",
     "shell.execute_reply": "2021-05-10T09:23:23.987868Z"
    },
    "papermill": {
     "duration": 16.526438,
     "end_time": "2021-05-10T09:23:23.988127",
     "exception": false,
     "start_time": "2021-05-10T09:23:07.461689",
     "status": "completed"
    },
    "tags": []
   },
   "outputs": [
    {
     "name": "stderr",
     "output_type": "stream",
     "text": [
      "/opt/conda/lib/python3.7/site-packages/ipykernel_launcher.py:15: SettingWithCopyWarning: \n",
      "A value is trying to be set on a copy of a slice from a DataFrame.\n",
      "Try using .loc[row_indexer,col_indexer] = value instead\n",
      "\n",
      "See the caveats in the documentation: https://pandas.pydata.org/pandas-docs/stable/user_guide/indexing.html#returning-a-view-versus-a-copy\n",
      "  from ipykernel import kernelapp as app\n"
     ]
    },
    {
     "name": "stdout",
     "output_type": "stream",
     "text": [
      "Baseline score: 0.13025 RMSLE\n"
     ]
    }
   ],
   "source": [
    "#We can reuse this scoring function anytime we want to try out a new feature set. \n",
    "#We'll run it now on the processed data with no additional features and get a baseline score:\n",
    "\n",
    "df_train,df_test = load_data()\n",
    "X = df_train.copy()\n",
    "y = X.pop(\"SalePrice\")\n",
    "\n",
    "baseline_score = score_dataset(X, y)\n",
    "print(f\"Baseline score: {baseline_score:.5f} RMSLE\")"
   ]
  },
  {
   "cell_type": "code",
   "execution_count": 7,
   "id": "metallic-colony",
   "metadata": {
    "execution": {
     "iopub.execute_input": "2021-05-10T09:23:24.056859Z",
     "iopub.status.busy": "2021-05-10T09:23:24.056094Z",
     "iopub.status.idle": "2021-05-10T09:23:24.058288Z",
     "shell.execute_reply": "2021-05-10T09:23:24.058882Z"
    },
    "papermill": {
     "duration": 0.038818,
     "end_time": "2021-05-10T09:23:24.059059",
     "exception": false,
     "start_time": "2021-05-10T09:23:24.020241",
     "status": "completed"
    },
    "tags": []
   },
   "outputs": [],
   "source": [
    "def make_mi_scores(X, y):\n",
    "    X = X.copy()\n",
    "    label_encoder = LabelEncoder()\n",
    "    object_cols = [col for col in X.columns if X[col].dtype == \"object\"]\n",
    "    for col in object_cols: \n",
    "        X[col] = label_encoder.fit_transform(X[col])\n",
    "    # All discrete features should now have integer dtypes\n",
    "    discrete_features = [pd.api.types.is_integer_dtype(t) for t in X.dtypes]\n",
    "    mi_scores = mutual_info_regression(X, y, discrete_features=discrete_features, random_state=0)\n",
    "    mi_scores = pd.Series(mi_scores, name=\"MI Scores\", index=X.columns)\n",
    "    mi_scores = mi_scores.sort_values(ascending=False)\n",
    "    return mi_scores\n",
    "\n",
    "\n",
    "def plot_mi_scores(scores):\n",
    "    scores = scores.sort_values(ascending=True)\n",
    "    width = np.arange(len(scores))\n",
    "    ticks = list(scores.index)\n",
    "    plt.barh(width, scores)\n",
    "    plt.yticks(width, ticks)\n",
    "    plt.title(\"Mutual Information Scores\")"
   ]
  },
  {
   "cell_type": "code",
   "execution_count": 8,
   "id": "legitimate-enterprise",
   "metadata": {
    "execution": {
     "iopub.execute_input": "2021-05-10T09:23:24.114940Z",
     "iopub.status.busy": "2021-05-10T09:23:24.114169Z",
     "iopub.status.idle": "2021-05-10T09:23:26.422690Z",
     "shell.execute_reply": "2021-05-10T09:23:26.421888Z"
    },
    "papermill": {
     "duration": 2.337107,
     "end_time": "2021-05-10T09:23:26.422852",
     "exception": false,
     "start_time": "2021-05-10T09:23:24.085745",
     "status": "completed"
    },
    "tags": []
   },
   "outputs": [
    {
     "data": {
      "image/png": "[encoded data removed]",
      "text/plain": [
       "<Figure size 432x288 with 1 Axes>"
      ]
     },
     "metadata": {
      "needs_background": "light"
     },
     "output_type": "display_data"
    }
   ],
   "source": [
    "X = df_train.copy()\n",
    "y = X.pop(\"SalePrice\")\n",
    "\n",
    "mi_scores = make_mi_scores(X, y)\n",
    "\n",
    "#print(mi_scores.head(20))\n",
    "#print(mi_scores.tail(5))  # uncomment to see bottom 20\n",
    "\n",
    "#plt.figure(dpi=100, figsize=(8, 5))\n",
    "plot_mi_scores(mi_scores.head(20))\n",
    "#plot_mi_scores(mi_scores.tail(20))  # uncomment to see bottom 20"
   ]
  },
  {
   "cell_type": "code",
   "execution_count": 9,
   "id": "revolutionary-estate",
   "metadata": {
    "execution": {
     "iopub.execute_input": "2021-05-10T09:23:26.486597Z",
     "iopub.status.busy": "2021-05-10T09:23:26.485608Z",
     "iopub.status.idle": "2021-05-10T09:23:26.488969Z",
     "shell.execute_reply": "2021-05-10T09:23:26.488399Z"
    },
    "papermill": {
     "duration": 0.03676,
     "end_time": "2021-05-10T09:23:26.489122",
     "exception": false,
     "start_time": "2021-05-10T09:23:26.452362",
     "status": "completed"
    },
    "tags": []
   },
   "outputs": [],
   "source": [
    "def drop_uninformative(df, mi_scores):\n",
    "    return df.loc[:, mi_scores > 0.0]"
   ]
  },
  {
   "cell_type": "code",
   "execution_count": 10,
   "id": "acceptable-divide",
   "metadata": {
    "execution": {
     "iopub.execute_input": "2021-05-10T09:23:26.550983Z",
     "iopub.status.busy": "2021-05-10T09:23:26.550194Z",
     "iopub.status.idle": "2021-05-10T09:23:42.262918Z",
     "shell.execute_reply": "2021-05-10T09:23:42.263601Z"
    },
    "papermill": {
     "duration": 15.745519,
     "end_time": "2021-05-10T09:23:42.263812",
     "exception": false,
     "start_time": "2021-05-10T09:23:26.518293",
     "status": "completed"
    },
    "tags": []
   },
   "outputs": [
    {
     "data": {
      "text/plain": [
       "0.12862250654832544"
      ]
     },
     "execution_count": 10,
     "metadata": {},
     "output_type": "execute_result"
    }
   ],
   "source": [
    "X = df_train.copy()\n",
    "y = X.pop(\"SalePrice\")\n",
    "X = drop_uninformative(X, mi_scores)\n",
    "\n",
    "score_dataset(X, y)"
   ]
  },
  {
   "cell_type": "code",
   "execution_count": 11,
   "id": "fixed-explanation",
   "metadata": {
    "execution": {
     "iopub.execute_input": "2021-05-10T09:23:42.347361Z",
     "iopub.status.busy": "2021-05-10T09:23:42.346602Z",
     "iopub.status.idle": "2021-05-10T09:23:42.349938Z",
     "shell.execute_reply": "2021-05-10T09:23:42.349409Z"
    },
    "papermill": {
     "duration": 0.053449,
     "end_time": "2021-05-10T09:23:42.350124",
     "exception": false,
     "start_time": "2021-05-10T09:23:42.296675",
     "status": "completed"
    },
    "tags": []
   },
   "outputs": [],
   "source": [
    "def mathematical_transforms(df): #not good\n",
    "    X = pd.DataFrame()  # dataframe to hold new features\n",
    "    X[\"LivLotRatio\"] = df.GrLivArea / df.LotArea\n",
    "    X[\"Spaciousness\"] = (df.FirstFlrSF + df.SecondFlrSF) / df.TotRmsAbvGrd\n",
    "    \n",
    "    return X\n",
    "\n",
    "\n",
    "def interactions(df): #good\n",
    "    X = pd.get_dummies(df.BldgType, prefix=\"Bldg\")\n",
    "    X = X.mul(df.GrLivArea, axis=0)\n",
    "    return X\n",
    "\n",
    "\n",
    "def counts(df): # not good\n",
    "    X = pd.DataFrame()\n",
    "    X[\"PorchTypes\"] = df[[\n",
    "        \"WoodDeckSF\",\n",
    "        \"OpenPorchSF\",\n",
    "        \"EnclosedPorch\",\n",
    "        \"Threeseasonporch\",\n",
    "        \"ScreenPorch\",\n",
    "    ]].gt(0.0).sum(axis=1)\n",
    "    return X\n",
    "\n",
    "\n",
    "def break_down(df): #not good\n",
    "    X = pd.DataFrame()\n",
    "    X[\"MSClass\"] = df.MSSubClass.str.split(\"_\", n=1, expand=True)[0]\n",
    "    return X\n",
    "\n",
    "\n",
    "def group_transforms(df): #good\n",
    "    X = pd.DataFrame()\n",
    "    X[\"MedNhbdArea\"] = df.groupby(\"Neighborhood\")[\"GrLivArea\"].transform(\"median\")\n",
    "    return X\n",
    "\n",
    "def group_transforms_2(df): #good\n",
    "    X = pd.DataFrame()\n",
    "    X[\"MeanNhbdArea\"] = df.groupby(\"Neighborhood\")[\"GrLivArea\"].transform(\"mean\")\n",
    "    return X\n",
    "\n",
    "def group_transforms_3(df): #good\n",
    "    X = pd.DataFrame()\n",
    "    X[\"StdNhbdArea\"] = df.groupby(\"Neighborhood\")[\"GrLivArea\"].transform(\"std\")\n",
    "    return X\n",
    "\n",
    "def group_transforms_4(df): #good\n",
    "    X = pd.DataFrame()\n",
    "    X[\"CntNhbdArea\"] = df.groupby(\"Neighborhood\")[\"GrLivArea\"].transform(\"count\")\n",
    "    return X\n",
    "\n",
    "def mathematical_transforms_2(df): #good\n",
    "    X = pd.DataFrame()\n",
    "    X[\"OverallQualCond\"] = df.OverallQual * df.OverallCond\n",
    "    return X\n",
    "\n",
    "\"\"\"take the square roots of area features, this would convert units of square feet to just feet\n",
    "take the logarithms of numeric features, If a feature has a skewed distribution, applying a logarithm can \n",
    "help normalise it since the square root function can also be used to normalise, it has to be ensured that\n",
    "any no area features are normalised twice\"\"\"\n",
    "\n",
    "def sqrt_area_features(df): #good\n",
    "    area_features = [\"LotArea\", \"LotFrontage\", \"MasVnrArea\", \"BsmtFinSF1\", \"BsmtFinSF2\", \"BsmtUnfSF\", \"TotalBsmtSF\", \"FirstFlrSF\", \"SecondFlrSF\", \"LowQualFinSF\", \"GrLivArea\",\n",
    "                      \"GarageArea\", \"WoodDeckSF\", \"OpenPorchSF\", \"EnclosedPorch\", \"Threeseasonporch\", \"ScreenPorch\", \"PoolArea\"]\n",
    "    X = pd.DataFrame()\n",
    "    X[\"Skewness\"] = df.select_dtypes(include=np.number).skew(axis = 0)\n",
    "    global features_to_normalise\n",
    "    features_to_normalise = list(X[X[\"Skewness\"].abs()>0.5].T) #features with abs skewness greater than 0.5\n",
    "    area_features_dont_need_norm = [x for x in area_features if x not in features_to_normalise]\n",
    "    for col in area_features_dont_need_norm: \n",
    "        df[col] = np.sqrt(df[col])\n",
    "        return df\n",
    "\n",
    "def fixing_skewness(df): #not good\n",
    "    for col in features_to_normalise:\n",
    "        df[col] = np.log1p(df[col])\n",
    "        return df "
   ]
  },
  {
   "cell_type": "code",
   "execution_count": 12,
   "id": "activated-local",
   "metadata": {
    "execution": {
     "iopub.execute_input": "2021-05-10T09:23:42.410149Z",
     "iopub.status.busy": "2021-05-10T09:23:42.409391Z",
     "iopub.status.idle": "2021-05-10T09:23:42.421001Z",
     "shell.execute_reply": "2021-05-10T09:23:42.420092Z"
    },
    "papermill": {
     "duration": 0.042943,
     "end_time": "2021-05-10T09:23:42.421158",
     "exception": false,
     "start_time": "2021-05-10T09:23:42.378215",
     "status": "completed"
    },
    "tags": []
   },
   "outputs": [],
   "source": [
    "cluster_features = [ #not good\n",
    "    \"LotArea\",\n",
    "    \"OverallQual\",\n",
    "    \"GrLivArea\",\n",
    "    \"YearBuilt\",\n",
    "    \"GrLivArea\",\n",
    "] #features picked based on high M.I. scores\n",
    "\n",
    "def cluster_labels(df, features, n_clusters=20):\n",
    "    X = df.copy()\n",
    "    X_scaled = X.loc[:, features]\n",
    "    X_scaled = (X_scaled - X_scaled.mean(axis=0)) / X_scaled.std(axis=0)\n",
    "    kmeans = KMeans(n_clusters=n_clusters, n_init=50, random_state=0)\n",
    "    X_new = pd.DataFrame()\n",
    "    X_new[\"Cluster\"] = kmeans.fit_predict(X_scaled)\n",
    "    return X_new\n",
    "\n",
    "\n",
    "def cluster_distance(df, features, n_clusters=20):\n",
    "    X = df.copy()\n",
    "    X_scaled = X.loc[:, features]\n",
    "    X_scaled = (X_scaled - X_scaled.mean(axis=0)) / X_scaled.std(axis=0)\n",
    "    kmeans = KMeans(n_clusters=20, n_init=50, random_state=0)\n",
    "    X_cd = kmeans.fit_transform(X_scaled)\n",
    "    # Label features and join to dataset\n",
    "    X_cd = pd.DataFrame(\n",
    "        X_cd, columns=[f\"Centroid_{i}\" for i in range(X_cd.shape[1])]\n",
    "    )\n",
    "    return X_cd"
   ]
  },
  {
   "cell_type": "code",
   "execution_count": 13,
   "id": "identical-accident",
   "metadata": {
    "execution": {
     "iopub.execute_input": "2021-05-10T09:23:42.492741Z",
     "iopub.status.busy": "2021-05-10T09:23:42.491920Z",
     "iopub.status.idle": "2021-05-10T09:23:42.495722Z",
     "shell.execute_reply": "2021-05-10T09:23:42.496329Z"
    },
    "papermill": {
     "duration": 0.047149,
     "end_time": "2021-05-10T09:23:42.496517",
     "exception": false,
     "start_time": "2021-05-10T09:23:42.449368",
     "status": "completed"
    },
    "tags": []
   },
   "outputs": [],
   "source": [
    "# Set Matplotlib defaults\n",
    "plt.style.use(\"seaborn-whitegrid\")\n",
    "plt.rc(\"figure\", autolayout=True)\n",
    "plt.rc(\n",
    "    \"axes\",\n",
    "    labelweight=\"bold\",\n",
    "    labelsize=\"large\",\n",
    "    titleweight=\"bold\",\n",
    "    titlesize=14,\n",
    "    titlepad=10,\n",
    ")\n",
    "\n",
    "\n",
    "def apply_pca(X, standardize=True):\n",
    "    # Standardize\n",
    "    if standardize:\n",
    "        X = (X - X.mean(axis=0)) / X.std(axis=0)\n",
    "    # Create principal components\n",
    "    pca = PCA()\n",
    "    X_pca = pca.fit_transform(X)\n",
    "    # Convert to dataframe\n",
    "    component_names = [f\"PC{i+1}\" for i in range(X_pca.shape[1])]\n",
    "    X_pca = pd.DataFrame(X_pca, columns=component_names)\n",
    "    # Create loadings\n",
    "    loadings = pd.DataFrame(\n",
    "        pca.components_.T,  # transpose the matrix of loadings\n",
    "        columns=component_names,  # so the columns are the principal components\n",
    "        index=X.columns,  # and the rows are the original features\n",
    "    )\n",
    "    return pca, X_pca, loadings\n",
    "\n",
    "\n",
    "def plot_variance(pca, width=8, dpi=100):\n",
    "    # Create figure\n",
    "    fig, axs = plt.subplots(1, 2)\n",
    "    n = pca.n_components_\n",
    "    grid = np.arange(1, n + 1)\n",
    "    # Explained variance\n",
    "    evr = pca.explained_variance_ratio_\n",
    "    axs[0].bar(grid, evr)\n",
    "    axs[0].set(\n",
    "        xlabel=\"Component\", title=\"% Explained Variance\", ylim=(0.0, 1.0)\n",
    "    )\n",
    "    # Cumulative Variance\n",
    "    cv = np.cumsum(evr)\n",
    "    axs[1].plot(np.r_[0, grid], np.r_[0, cv], \"o-\")\n",
    "    axs[1].set(\n",
    "        xlabel=\"Component\", title=\"% Cumulative Variance\", ylim=(0.0, 1.0)\n",
    "    )\n",
    "    # Set up figure\n",
    "    fig.set(figwidth=8, dpi=100)\n",
    "    return axs"
   ]
  },
  {
   "cell_type": "code",
   "execution_count": 14,
   "id": "fifteen-occupation",
   "metadata": {
    "execution": {
     "iopub.execute_input": "2021-05-10T09:23:42.556994Z",
     "iopub.status.busy": "2021-05-10T09:23:42.556320Z",
     "iopub.status.idle": "2021-05-10T09:23:42.587767Z",
     "shell.execute_reply": "2021-05-10T09:23:42.587061Z"
    },
    "papermill": {
     "duration": 0.062667,
     "end_time": "2021-05-10T09:23:42.587916",
     "exception": false,
     "start_time": "2021-05-10T09:23:42.525249",
     "status": "completed"
    },
    "tags": []
   },
   "outputs": [
    {
     "data": {
      "text/plain": [
       "SalePrice      1.000000\n",
       "OverallQual    0.790982\n",
       "GrLivArea      0.708624\n",
       "ExterQual      0.682639\n",
       "KitchenQual    0.659600\n",
       "GarageCars     0.640409\n",
       "GarageArea     0.623431\n",
       "TotalBsmtSF    0.613581\n",
       "FirstFlrSF     0.605852\n",
       "BsmtQual       0.604816\n",
       "FullBath       0.560664\n",
       "dtype: float64"
      ]
     },
     "execution_count": 14,
     "metadata": {},
     "output_type": "execute_result"
    }
   ],
   "source": [
    "df_train.corrwith(df_train.SalePrice).nlargest(11)"
   ]
  },
  {
   "cell_type": "code",
   "execution_count": 15,
   "id": "chemical-security",
   "metadata": {
    "execution": {
     "iopub.execute_input": "2021-05-10T09:23:42.651304Z",
     "iopub.status.busy": "2021-05-10T09:23:42.650379Z",
     "iopub.status.idle": "2021-05-10T09:23:42.654484Z",
     "shell.execute_reply": "2021-05-10T09:23:42.653742Z"
    },
    "papermill": {
     "duration": 0.037921,
     "end_time": "2021-05-10T09:23:42.654656",
     "exception": false,
     "start_time": "2021-05-10T09:23:42.616735",
     "status": "completed"
    },
    "tags": []
   },
   "outputs": [],
   "source": [
    "#features highly correlated with the target feature \n",
    "features = [\n",
    "    \"OverallQual\",\n",
    "    \"GrLivArea\",\n",
    "    \"ExterQual\",\n",
    "    \"KitchenQual\",\n",
    "    \"GarageCars\",\n",
    "    \"GarageArea\",\n",
    "    \"TotalBsmtSF\",\n",
    "]"
   ]
  },
  {
   "cell_type": "code",
   "execution_count": 16,
   "id": "intense-statistics",
   "metadata": {
    "execution": {
     "iopub.execute_input": "2021-05-10T09:23:42.727366Z",
     "iopub.status.busy": "2021-05-10T09:23:42.720359Z",
     "iopub.status.idle": "2021-05-10T09:23:42.761851Z",
     "shell.execute_reply": "2021-05-10T09:23:42.760235Z"
    },
    "papermill": {
     "duration": 0.078054,
     "end_time": "2021-05-10T09:23:42.762199",
     "exception": false,
     "start_time": "2021-05-10T09:23:42.684145",
     "status": "completed"
    },
    "tags": []
   },
   "outputs": [
    {
     "name": "stdout",
     "output_type": "stream",
     "text": [
      "                  PC1       PC2       PC3       PC4       PC5       PC6  \\\n",
      "OverallQual  0.418385 -0.245483  0.011097 -0.137113 -0.466295 -0.719178   \n",
      "GrLivArea    0.334344 -0.013410  0.629985 -0.643817  0.162245  0.223495   \n",
      "ExterQual    0.389947 -0.404559 -0.288890  0.039317 -0.437236  0.638652   \n",
      "KitchenQual  0.377713 -0.399101 -0.355102 -0.001550  0.744087 -0.134156   \n",
      "GarageCars   0.394973  0.534591 -0.236118 -0.035382 -0.046755 -0.022810   \n",
      "GarageArea   0.390671  0.572295 -0.155572  0.060988  0.064426  0.077898   \n",
      "TotalBsmtSF  0.331384 -0.057443  0.559899  0.748452  0.071189  0.019247   \n",
      "\n",
      "                  PC7  \n",
      "OverallQual  0.105454  \n",
      "GrLivArea   -0.019499  \n",
      "ExterQual    0.014789  \n",
      "KitchenQual -0.016994  \n",
      "GarageCars  -0.706044  \n",
      "GarageArea   0.694056  \n",
      "TotalBsmtSF -0.088200  \n"
     ]
    }
   ],
   "source": [
    "X = df_train.copy()\n",
    "y = X.pop(\"SalePrice\")\n",
    "X = X.loc[:, features]\n",
    "\n",
    "# `apply_pca`, defined above\n",
    "pca, X_pca, loadings = apply_pca(X)\n",
    "print(loadings)"
   ]
  },
  {
   "cell_type": "code",
   "execution_count": 17,
   "id": "trying-maldives",
   "metadata": {
    "execution": {
     "iopub.execute_input": "2021-05-10T09:23:42.854219Z",
     "iopub.status.busy": "2021-05-10T09:23:42.840237Z",
     "iopub.status.idle": "2021-05-10T09:23:43.339860Z",
     "shell.execute_reply": "2021-05-10T09:23:43.339247Z"
    },
    "papermill": {
     "duration": 0.545368,
     "end_time": "2021-05-10T09:23:43.340190",
     "exception": false,
     "start_time": "2021-05-10T09:23:42.794822",
     "status": "completed"
    },
    "tags": []
   },
   "outputs": [
    {
     "data": {
      "text/plain": [
       "array([<AxesSubplot:title={'center':'% Explained Variance'}, xlabel='Component'>,\n",
       "       <AxesSubplot:title={'center':'% Cumulative Variance'}, xlabel='Component'>],\n",
       "      dtype=object)"
      ]
     },
     "execution_count": 17,
     "metadata": {},
     "output_type": "execute_result"
    },
    {
     "data": {
      "image/png": "[encoded data removed]",
      "text/plain": [
       "<Figure size 800x400 with 2 Axes>"
      ]
     },
     "metadata": {},
     "output_type": "display_data"
    }
   ],
   "source": [
    "plot_variance(pca)"
   ]
  },
  {
   "cell_type": "code",
   "execution_count": 18,
   "id": "abroad-following",
   "metadata": {
    "execution": {
     "iopub.execute_input": "2021-05-10T09:23:43.413518Z",
     "iopub.status.busy": "2021-05-10T09:23:43.412852Z",
     "iopub.status.idle": "2021-05-10T09:23:43.416219Z",
     "shell.execute_reply": "2021-05-10T09:23:43.416863Z"
    },
    "papermill": {
     "duration": 0.044326,
     "end_time": "2021-05-10T09:23:43.417039",
     "exception": false,
     "start_time": "2021-05-10T09:23:43.372713",
     "status": "completed"
    },
    "tags": []
   },
   "outputs": [],
   "source": [
    "def pca_inspired(df): #good\n",
    "    X = pd.DataFrame()\n",
    "    X[\"Feature1\"] = df.GarageCars / df.GarageArea\n",
    "    X[\"Feature2\"] = df.OverallQual + df.GrLivArea\n",
    "    X[\"Feature3\"] = df.GrLivArea + df.TotalBsmtSF\n",
    "    return X\n",
    "\n",
    "def pca_components(df, features): #not good\n",
    "    X = df.loc[:, features]\n",
    "    _, X_pca, _ = apply_pca(X)\n",
    "    return X_pca"
   ]
  },
  {
   "cell_type": "code",
   "execution_count": 19,
   "id": "voluntary-hybrid",
   "metadata": {
    "execution": {
     "iopub.execute_input": "2021-05-10T09:23:43.485901Z",
     "iopub.status.busy": "2021-05-10T09:23:43.485202Z",
     "iopub.status.idle": "2021-05-10T09:23:43.524940Z",
     "shell.execute_reply": "2021-05-10T09:23:43.524287Z"
    },
    "papermill": {
     "duration": 0.0756,
     "end_time": "2021-05-10T09:23:43.525112",
     "exception": false,
     "start_time": "2021-05-10T09:23:43.449512",
     "status": "completed"
    },
    "tags": []
   },
   "outputs": [
    {
     "data": {
      "text/html": [
       "<div>\n",
       "<style scoped>\n",
       "    .dataframe tbody tr th:only-of-type {\n",
       "        vertical-align: middle;\n",
       "    }\n",
       "\n",
       "    .dataframe tbody tr th {\n",
       "        vertical-align: top;\n",
       "    }\n",
       "\n",
       "    .dataframe thead th {\n",
       "        text-align: right;\n",
       "    }\n",
       "</style>\n",
       "<table border=\"1\" class=\"dataframe\">\n",
       "  <thead>\n",
       "    <tr style=\"text-align: right;\">\n",
       "      <th></th>\n",
       "      <th>SalePrice</th>\n",
       "      <th>Neighborhood</th>\n",
       "      <th>SaleCondition</th>\n",
       "      <th>OverallQual</th>\n",
       "      <th>GrLivArea</th>\n",
       "      <th>ExterQual</th>\n",
       "      <th>KitchenQual</th>\n",
       "      <th>GarageCars</th>\n",
       "      <th>GarageArea</th>\n",
       "      <th>TotalBsmtSF</th>\n",
       "    </tr>\n",
       "  </thead>\n",
       "  <tbody>\n",
       "    <tr>\n",
       "      <th>1173</th>\n",
       "      <td>171900.0</td>\n",
       "      <td>Somerst</td>\n",
       "      <td>Normal</td>\n",
       "      <td>7.0</td>\n",
       "      <td>1250.0</td>\n",
       "      <td>7.0</td>\n",
       "      <td>7.0</td>\n",
       "      <td>2.0</td>\n",
       "      <td>625.0</td>\n",
       "      <td>625.0</td>\n",
       "    </tr>\n",
       "    <tr>\n",
       "      <th>607</th>\n",
       "      <td>152000.0</td>\n",
       "      <td>CollgCr</td>\n",
       "      <td>Normal</td>\n",
       "      <td>5.0</td>\n",
       "      <td>1040.0</td>\n",
       "      <td>5.0</td>\n",
       "      <td>7.0</td>\n",
       "      <td>2.0</td>\n",
       "      <td>576.0</td>\n",
       "      <td>1040.0</td>\n",
       "    </tr>\n",
       "    <tr>\n",
       "      <th>588</th>\n",
       "      <td>137000.0</td>\n",
       "      <td>Sawyer</td>\n",
       "      <td>Normal</td>\n",
       "      <td>5.0</td>\n",
       "      <td>860.0</td>\n",
       "      <td>5.0</td>\n",
       "      <td>5.0</td>\n",
       "      <td>2.0</td>\n",
       "      <td>528.0</td>\n",
       "      <td>840.0</td>\n",
       "    </tr>\n",
       "    <tr>\n",
       "      <th>630</th>\n",
       "      <td>168500.0</td>\n",
       "      <td>NAmes</td>\n",
       "      <td>Normal</td>\n",
       "      <td>6.0</td>\n",
       "      <td>1350.0</td>\n",
       "      <td>5.0</td>\n",
       "      <td>5.0</td>\n",
       "      <td>2.0</td>\n",
       "      <td>520.0</td>\n",
       "      <td>1248.0</td>\n",
       "    </tr>\n",
       "    <tr>\n",
       "      <th>129</th>\n",
       "      <td>155000.0</td>\n",
       "      <td>NAmes</td>\n",
       "      <td>Normal</td>\n",
       "      <td>6.0</td>\n",
       "      <td>1348.0</td>\n",
       "      <td>5.0</td>\n",
       "      <td>5.0</td>\n",
       "      <td>2.0</td>\n",
       "      <td>453.0</td>\n",
       "      <td>660.0</td>\n",
       "    </tr>\n",
       "    <tr>\n",
       "      <th>...</th>\n",
       "      <td>...</td>\n",
       "      <td>...</td>\n",
       "      <td>...</td>\n",
       "      <td>...</td>\n",
       "      <td>...</td>\n",
       "      <td>...</td>\n",
       "      <td>...</td>\n",
       "      <td>...</td>\n",
       "      <td>...</td>\n",
       "      <td>...</td>\n",
       "    </tr>\n",
       "    <tr>\n",
       "      <th>586</th>\n",
       "      <td>369900.0</td>\n",
       "      <td>Timber</td>\n",
       "      <td>Partial</td>\n",
       "      <td>8.0</td>\n",
       "      <td>2028.0</td>\n",
       "      <td>7.0</td>\n",
       "      <td>7.0</td>\n",
       "      <td>3.0</td>\n",
       "      <td>880.0</td>\n",
       "      <td>1868.0</td>\n",
       "    </tr>\n",
       "    <tr>\n",
       "      <th>1211</th>\n",
       "      <td>189000.0</td>\n",
       "      <td>SawyerW</td>\n",
       "      <td>Normal</td>\n",
       "      <td>6.0</td>\n",
       "      <td>1845.0</td>\n",
       "      <td>7.0</td>\n",
       "      <td>7.0</td>\n",
       "      <td>2.0</td>\n",
       "      <td>462.0</td>\n",
       "      <td>1055.0</td>\n",
       "    </tr>\n",
       "    <tr>\n",
       "      <th>919</th>\n",
       "      <td>238000.0</td>\n",
       "      <td>SawyerW</td>\n",
       "      <td>Normal</td>\n",
       "      <td>7.0</td>\n",
       "      <td>2127.0</td>\n",
       "      <td>7.0</td>\n",
       "      <td>7.0</td>\n",
       "      <td>3.0</td>\n",
       "      <td>833.0</td>\n",
       "      <td>1104.0</td>\n",
       "    </tr>\n",
       "    <tr>\n",
       "      <th>1147</th>\n",
       "      <td>180000.0</td>\n",
       "      <td>SawyerW</td>\n",
       "      <td>Normal</td>\n",
       "      <td>6.0</td>\n",
       "      <td>1298.0</td>\n",
       "      <td>7.0</td>\n",
       "      <td>7.0</td>\n",
       "      <td>2.0</td>\n",
       "      <td>403.0</td>\n",
       "      <td>1298.0</td>\n",
       "    </tr>\n",
       "    <tr>\n",
       "      <th>95</th>\n",
       "      <td>204750.0</td>\n",
       "      <td>CollgCr</td>\n",
       "      <td>Normal</td>\n",
       "      <td>6.0</td>\n",
       "      <td>1786.0</td>\n",
       "      <td>5.0</td>\n",
       "      <td>7.0</td>\n",
       "      <td>2.0</td>\n",
       "      <td>684.0</td>\n",
       "      <td>824.0</td>\n",
       "    </tr>\n",
       "  </tbody>\n",
       "</table>\n",
       "<p>1460 rows × 10 columns</p>\n",
       "</div>"
      ],
      "text/plain": [
       "      SalePrice Neighborhood SaleCondition  OverallQual  GrLivArea  ExterQual  \\\n",
       "1173   171900.0      Somerst        Normal          7.0     1250.0        7.0   \n",
       "607    152000.0      CollgCr        Normal          5.0     1040.0        5.0   \n",
       "588    137000.0       Sawyer        Normal          5.0      860.0        5.0   \n",
       "630    168500.0        NAmes        Normal          6.0     1350.0        5.0   \n",
       "129    155000.0        NAmes        Normal          6.0     1348.0        5.0   \n",
       "...         ...          ...           ...          ...        ...        ...   \n",
       "586    369900.0       Timber       Partial          8.0     2028.0        7.0   \n",
       "1211   189000.0      SawyerW        Normal          6.0     1845.0        7.0   \n",
       "919    238000.0      SawyerW        Normal          7.0     2127.0        7.0   \n",
       "1147   180000.0      SawyerW        Normal          6.0     1298.0        7.0   \n",
       "95     204750.0      CollgCr        Normal          6.0     1786.0        5.0   \n",
       "\n",
       "      KitchenQual  GarageCars  GarageArea  TotalBsmtSF  \n",
       "1173          7.0         2.0       625.0        625.0  \n",
       "607           7.0         2.0       576.0       1040.0  \n",
       "588           5.0         2.0       528.0        840.0  \n",
       "630           5.0         2.0       520.0       1248.0  \n",
       "129           5.0         2.0       453.0        660.0  \n",
       "...           ...         ...         ...          ...  \n",
       "586           7.0         3.0       880.0       1868.0  \n",
       "1211          7.0         2.0       462.0       1055.0  \n",
       "919           7.0         3.0       833.0       1104.0  \n",
       "1147          7.0         2.0       403.0       1298.0  \n",
       "95            7.0         2.0       684.0        824.0  \n",
       "\n",
       "[1460 rows x 10 columns]"
      ]
     },
     "execution_count": 19,
     "metadata": {},
     "output_type": "execute_result"
    }
   ],
   "source": [
    "# You can change PC1 to PC2, PC3, PC4 or PC5\n",
    "component = \"PC5\"\n",
    "\n",
    "idx = X_pca[component].sort_values(ascending=False).index\n",
    "df_train[[\"SalePrice\", \"Neighborhood\", \"SaleCondition\"] + features].reindex(idx)"
   ]
  },
  {
   "cell_type": "code",
   "execution_count": 20,
   "id": "impaired-airline",
   "metadata": {
    "execution": {
     "iopub.execute_input": "2021-05-10T09:23:43.604860Z",
     "iopub.status.busy": "2021-05-10T09:23:43.604201Z",
     "iopub.status.idle": "2021-05-10T09:23:43.607156Z",
     "shell.execute_reply": "2021-05-10T09:23:43.607627Z"
    },
    "papermill": {
     "duration": 0.044418,
     "end_time": "2021-05-10T09:23:43.607806",
     "exception": false,
     "start_time": "2021-05-10T09:23:43.563388",
     "status": "completed"
    },
    "tags": []
   },
   "outputs": [],
   "source": [
    "def label_encode(df):\n",
    "    X = df.copy()\n",
    "    label_encoder = LabelEncoder()\n",
    "    object_cols = [col for col in X.columns if X[col].dtype == \"object\"]\n",
    "    for col in object_cols: \n",
    "        X[col] = label_encoder.fit_transform(X[col])\n",
    "    return X"
   ]
  },
  {
   "cell_type": "code",
   "execution_count": 21,
   "id": "coupled-oliver",
   "metadata": {
    "execution": {
     "iopub.execute_input": "2021-05-10T09:23:43.678527Z",
     "iopub.status.busy": "2021-05-10T09:23:43.677550Z",
     "iopub.status.idle": "2021-05-10T09:23:43.710427Z",
     "shell.execute_reply": "2021-05-10T09:23:43.710886Z"
    },
    "papermill": {
     "duration": 0.070059,
     "end_time": "2021-05-10T09:23:43.711076",
     "exception": false,
     "start_time": "2021-05-10T09:23:43.641017",
     "status": "completed"
    },
    "tags": []
   },
   "outputs": [
    {
     "data": {
      "text/plain": [
       "MSSubClass        True\n",
       "MSZoning         False\n",
       "Street           False\n",
       "Alley            False\n",
       "LotShape         False\n",
       "LandContour      False\n",
       "Utilities        False\n",
       "LotConfig        False\n",
       "LandSlope        False\n",
       "Neighborhood      True\n",
       "Condition1        True\n",
       "Condition2        True\n",
       "BldgType         False\n",
       "HouseStyle        True\n",
       "RoofStyle        False\n",
       "RoofMatl          True\n",
       "Exterior1st       True\n",
       "Exterior2nd       True\n",
       "MasVnrType       False\n",
       "Foundation       False\n",
       "BsmtExposure     False\n",
       "BsmtFinType1     False\n",
       "BsmtFinType2     False\n",
       "Heating          False\n",
       "CentralAir       False\n",
       "Electrical       False\n",
       "Functional       False\n",
       "GarageType       False\n",
       "GarageFinish     False\n",
       "PavedDrive       False\n",
       "Fence            False\n",
       "MiscFeature      False\n",
       "SaleType          True\n",
       "SaleCondition    False\n",
       "dtype: bool"
      ]
     },
     "execution_count": 21,
     "metadata": {},
     "output_type": "execute_result"
    }
   ],
   "source": [
    "#to determine which features to target encode \n",
    "df_train.select_dtypes([\"object\"]).nunique()>7"
   ]
  },
  {
   "cell_type": "code",
   "execution_count": 22,
   "id": "floppy-crown",
   "metadata": {
    "execution": {
     "iopub.execute_input": "2021-05-10T09:23:43.780561Z",
     "iopub.status.busy": "2021-05-10T09:23:43.779070Z",
     "iopub.status.idle": "2021-05-10T09:23:43.785091Z",
     "shell.execute_reply": "2021-05-10T09:23:43.784373Z"
    },
    "papermill": {
     "duration": 0.04174,
     "end_time": "2021-05-10T09:23:43.785241",
     "exception": false,
     "start_time": "2021-05-10T09:23:43.743501",
     "status": "completed"
    },
    "tags": []
   },
   "outputs": [],
   "source": [
    "#features for target encoding \n",
    "cols = [\"Neighborhood\", \"SaleType\", \"Exterior1st\", \"Exterior2nd\",\"Condition1\", \"Condition2\", \"HouseStyle\", \n",
    "       \"RoofMatl\", \"MSSubClass\"]"
   ]
  },
  {
   "cell_type": "code",
   "execution_count": 23,
   "id": "viral-dollar",
   "metadata": {
    "execution": {
     "iopub.execute_input": "2021-05-10T09:23:43.857566Z",
     "iopub.status.busy": "2021-05-10T09:23:43.856709Z",
     "iopub.status.idle": "2021-05-10T09:23:43.868240Z",
     "shell.execute_reply": "2021-05-10T09:23:43.868765Z"
    },
    "papermill": {
     "duration": 0.04933,
     "end_time": "2021-05-10T09:23:43.868958",
     "exception": false,
     "start_time": "2021-05-10T09:23:43.819628",
     "status": "completed"
    },
    "tags": []
   },
   "outputs": [],
   "source": [
    "class CrossFoldEncoder:\n",
    "    def __init__(self, encoder, **kwargs):\n",
    "        self.encoder_ = encoder\n",
    "        self.kwargs_ = kwargs  # keyword arguments for the encoder\n",
    "        self.cv_ = KFold(n_splits=5)\n",
    "\n",
    "    # Fit an encoder on one split and transform the feature on the\n",
    "    # other. Iterating over the splits in all folds gives a complete\n",
    "    # transformation. We also now have one trained encoder on each\n",
    "    # fold.\n",
    "    def fit_transform(self, X, y, cols):\n",
    "        self.fitted_encoders_ = []\n",
    "        self.cols_ = cols\n",
    "        X_encoded = []\n",
    "        for idx_encode, idx_train in self.cv_.split(X):\n",
    "            fitted_encoder = self.encoder_(cols=cols, **self.kwargs_)\n",
    "            fitted_encoder.fit(\n",
    "                X.iloc[idx_encode, :], y.iloc[idx_encode],\n",
    "            )\n",
    "            X_encoded.append(fitted_encoder.transform(X.iloc[idx_train, :])[cols])\n",
    "            self.fitted_encoders_.append(fitted_encoder)\n",
    "        X_encoded = pd.concat(X_encoded)\n",
    "        X_encoded.columns = [name + \"_encoded\" for name in X_encoded.columns]\n",
    "        return X_encoded\n",
    "\n",
    "    # To transform the test data, average the encodings learned from\n",
    "    # each fold.\n",
    "    def transform(self, X):\n",
    "        from functools import reduce\n",
    "\n",
    "        X_encoded_list = []\n",
    "        for fitted_encoder in self.fitted_encoders_:\n",
    "            X_encoded = fitted_encoder.transform(X)\n",
    "            X_encoded_list.append(X_encoded[self.cols_])\n",
    "        X_encoded = reduce(\n",
    "            lambda x, y: x.add(y, fill_value=0), X_encoded_list\n",
    "        ) / len(X_encoded_list)\n",
    "        X_encoded.columns = [name + \"_encoded\" for name in X_encoded.columns]\n",
    "        return X_encoded"
   ]
  },
  {
   "cell_type": "code",
   "execution_count": 24,
   "id": "steady-solution",
   "metadata": {
    "execution": {
     "iopub.execute_input": "2021-05-10T09:23:43.943344Z",
     "iopub.status.busy": "2021-05-10T09:23:43.942560Z",
     "iopub.status.idle": "2021-05-10T09:23:43.954947Z",
     "shell.execute_reply": "2021-05-10T09:23:43.954207Z"
    },
    "papermill": {
     "duration": 0.05123,
     "end_time": "2021-05-10T09:23:43.955094",
     "exception": false,
     "start_time": "2021-05-10T09:23:43.903864",
     "status": "completed"
    },
    "tags": []
   },
   "outputs": [],
   "source": [
    "def create_features(df, df_test=None):\n",
    "    X = df.copy()\n",
    "    y = X.pop(\"SalePrice\")\n",
    "    mi_scores = make_mi_scores(X, y)\n",
    "\n",
    "    # Combine splits if test data is given\n",
    "    #\n",
    "    # If we're creating features for test set predictions, we should\n",
    "    # use all the data we have available. After creating our features,\n",
    "    # we'll recreate the splits.\n",
    "    if df_test is not None:\n",
    "        X_test = df_test.copy()\n",
    "        X_test.pop(\"SalePrice\")\n",
    "        X = pd.concat([X, X_test])\n",
    "\n",
    "    # Lesson 2 - Mutual Information\n",
    "    X = drop_uninformative(X, mi_scores)\n",
    "\n",
    "    # Lesson 3 - Transformations\n",
    "    X = X.join(interactions(X))\n",
    "    X = X.join(counts(X))\n",
    "    X = X.join(group_transforms(X))\n",
    "    X = X.join(group_transforms_2(X))\n",
    "    X = X.join(group_transforms_3(X))\n",
    "    X = X.join(group_transforms_4(X))\n",
    "    X = X.join(mathematical_transforms_2(X))\n",
    "    X = sqrt_area_features(X)\n",
    "\n",
    "    # Lesson 5 - PCA\n",
    "    X = X.join(pca_inspired(X))\n",
    "\n",
    "    X = label_encode(X)\n",
    "\n",
    "    # Reform splits\n",
    "    if df_test is not None:\n",
    "        X_test = X.loc[df_test.index, :]\n",
    "        X.drop(df_test.index, inplace=True)\n",
    "\n",
    "    # Lesson 6 - Target Encoder\n",
    "    encoder = CrossFoldEncoder(MEstimateEncoder, m=1)\n",
    "    X = X.join(encoder.fit_transform(X, y, cols=cols), how = 'left', lsuffix = '_left', rsuffix = '_right')\n",
    "    if df_test is not None:\n",
    "        X_test = X_test.join(encoder.transform(X_test), how = 'left', lsuffix = '_left', rsuffix = '_right')\n",
    "\n",
    "    if df_test is not None:\n",
    "        return X, X_test\n",
    "    else:\n",
    "        return X"
   ]
  },
  {
   "cell_type": "markdown",
   "id": "chief-remainder",
   "metadata": {
    "papermill": {
     "duration": 0.035599,
     "end_time": "2021-05-10T09:23:44.025743",
     "exception": false,
     "start_time": "2021-05-10T09:23:43.990144",
     "status": "completed"
    },
    "tags": []
   },
   "source": [
    "# Creating a Model For the Competition\n",
    "\n",
    "Build a Random Forest model and train it on all of **X** and **y**."
   ]
  },
  {
   "cell_type": "code",
   "execution_count": 25,
   "id": "insured-election",
   "metadata": {
    "execution": {
     "iopub.execute_input": "2021-05-10T09:23:44.105795Z",
     "iopub.status.busy": "2021-05-10T09:23:44.104771Z",
     "iopub.status.idle": "2021-05-10T09:23:44.110006Z",
     "shell.execute_reply": "2021-05-10T09:23:44.109189Z"
    },
    "papermill": {
     "duration": 0.047208,
     "end_time": "2021-05-10T09:23:44.110188",
     "exception": false,
     "start_time": "2021-05-10T09:23:44.062980",
     "status": "completed"
    },
    "tags": []
   },
   "outputs": [
    {
     "data": {
      "text/plain": [
       "'import optuna\\n\\ndef objective(trial):\\n    xgb_params = dict(\\n        max_depth=trial.suggest_int(\"max_depth\", 2, 10),\\n        learning_rate=trial.suggest_float(\"learning_rate\", 1e-4, 1e-1, log=True),\\n        n_estimators=trial.suggest_int(\"n_estimators\", 1000, 8000),\\n        min_child_weight=trial.suggest_int(\"min_child_weight\", 1, 10),\\n        colsample_bytree=trial.suggest_float(\"colsample_bytree\", 0.2, 1.0),\\n        subsample=trial.suggest_float(\"subsample\", 0.2, 1.0),\\n        reg_alpha=trial.suggest_float(\"reg_alpha\", 1e-4, 1e2, log=True),\\n        reg_lambda=trial.suggest_float(\"reg_lambda\", 1e-4, 1e2, log=True),\\n    )\\n    xgb = XGBRegressor(**xgb_params)\\n    return score_dataset(X_train, y_train, xgb)\\n\\nstudy = optuna.create_study(direction=\"minimize\")\\nstudy.optimize(objective, n_trials=20)\\nxgb_params = study.best_params'"
      ]
     },
     "execution_count": 25,
     "metadata": {},
     "output_type": "execute_result"
    }
   ],
   "source": [
    "#to optimise the XGBRregressor model \n",
    "\n",
    "\"\"\"import optuna\n",
    "\n",
    "def objective(trial):\n",
    "    xgb_params = dict(\n",
    "        max_depth=trial.suggest_int(\"max_depth\", 2, 10),\n",
    "        learning_rate=trial.suggest_float(\"learning_rate\", 1e-4, 1e-1, log=True),\n",
    "        n_estimators=trial.suggest_int(\"n_estimators\", 1000, 8000),\n",
    "        min_child_weight=trial.suggest_int(\"min_child_weight\", 1, 10),\n",
    "        colsample_bytree=trial.suggest_float(\"colsample_bytree\", 0.2, 1.0),\n",
    "        subsample=trial.suggest_float(\"subsample\", 0.2, 1.0),\n",
    "        reg_alpha=trial.suggest_float(\"reg_alpha\", 1e-4, 1e2, log=True),\n",
    "        reg_lambda=trial.suggest_float(\"reg_lambda\", 1e-4, 1e2, log=True),\n",
    "    )\n",
    "    xgb = XGBRegressor(**xgb_params)\n",
    "    return score_dataset(X_train, y_train, xgb)\n",
    "\n",
    "study = optuna.create_study(direction=\"minimize\")\n",
    "study.optimize(objective, n_trials=20)\n",
    "xgb_params = study.best_params\"\"\""
   ]
  },
  {
   "cell_type": "code",
   "execution_count": 26,
   "id": "satisfied-peninsula",
   "metadata": {
    "execution": {
     "iopub.execute_input": "2021-05-10T09:23:44.189211Z",
     "iopub.status.busy": "2021-05-10T09:23:44.188417Z",
     "iopub.status.idle": "2021-05-10T09:23:44.191542Z",
     "shell.execute_reply": "2021-05-10T09:23:44.190857Z"
    },
    "papermill": {
     "duration": 0.045126,
     "end_time": "2021-05-10T09:23:44.191691",
     "exception": false,
     "start_time": "2021-05-10T09:23:44.146565",
     "status": "completed"
    },
    "tags": []
   },
   "outputs": [],
   "source": [
    "#optimised model parameters \n",
    "\n",
    "xgb_params = dict(\n",
    "    max_depth=9, \n",
    "    learning_rate= 0.0026912099970591713, \n",
    "    n_estimators= 4770, \n",
    "    min_child_weight= 8, \n",
    "    colsample_bytree= 0.2110727162304385, \n",
    "    subsample= 0.3613877422815094, \n",
    "    reg_alpha= 0.0003326889524248118, \n",
    "    reg_lambda= 0.0009645240649349676,\n",
    ")"
   ]
  },
  {
   "cell_type": "code",
   "execution_count": 27,
   "id": "downtown-killing",
   "metadata": {
    "execution": {
     "iopub.execute_input": "2021-05-10T09:23:44.264765Z",
     "iopub.status.busy": "2021-05-10T09:23:44.264047Z",
     "iopub.status.idle": "2021-05-10T09:24:33.016499Z",
     "shell.execute_reply": "2021-05-10T09:24:33.017009Z"
    },
    "papermill": {
     "duration": 48.791803,
     "end_time": "2021-05-10T09:24:33.017178",
     "exception": false,
     "start_time": "2021-05-10T09:23:44.225375",
     "status": "completed"
    },
    "tags": []
   },
   "outputs": [
    {
     "name": "stderr",
     "output_type": "stream",
     "text": [
      "/opt/conda/lib/python3.7/site-packages/category_encoders/utils.py:21: FutureWarning: is_categorical is deprecated and will be removed in a future version.  Use is_categorical_dtype instead\n",
      "  elif pd.api.types.is_categorical(cols):\n"
     ]
    },
    {
     "data": {
      "text/plain": [
       "0.11775164483573299"
      ]
     },
     "execution_count": 27,
     "metadata": {},
     "output_type": "execute_result"
    }
   ],
   "source": [
    "X_train = create_features(df_train)\n",
    "y_train = df_train.loc[:, \"SalePrice\"]\n",
    "xgb = XGBRegressor(**xgb_params)\n",
    "\n",
    "score_dataset(X_train, y_train, xgb)"
   ]
  },
  {
   "cell_type": "markdown",
   "id": "republican-carolina",
   "metadata": {
    "papermill": {
     "duration": 0.034957,
     "end_time": "2021-05-10T09:24:33.086212",
     "exception": false,
     "start_time": "2021-05-10T09:24:33.051255",
     "status": "completed"
    },
    "tags": []
   },
   "source": [
    "# Make Predictions\n",
    "Read the file of \"test\" data. And apply your model to make predictions"
   ]
  },
  {
   "cell_type": "code",
   "execution_count": 28,
   "id": "attended-immigration",
   "metadata": {
    "execution": {
     "iopub.execute_input": "2021-05-10T09:24:33.162745Z",
     "iopub.status.busy": "2021-05-10T09:24:33.161953Z",
     "iopub.status.idle": "2021-05-10T09:24:46.500787Z",
     "shell.execute_reply": "2021-05-10T09:24:46.501925Z"
    },
    "papermill": {
     "duration": 13.38166,
     "end_time": "2021-05-10T09:24:46.502255",
     "exception": false,
     "start_time": "2021-05-10T09:24:33.120595",
     "status": "completed"
    },
    "tags": []
   },
   "outputs": [
    {
     "name": "stderr",
     "output_type": "stream",
     "text": [
      "/opt/conda/lib/python3.7/site-packages/category_encoders/utils.py:21: FutureWarning: is_categorical is deprecated and will be removed in a future version.  Use is_categorical_dtype instead\n",
      "  elif pd.api.types.is_categorical(cols):\n"
     ]
    },
    {
     "name": "stdout",
     "output_type": "stream",
     "text": [
      "Your submission was successfully saved!\n"
     ]
    }
   ],
   "source": [
    "X_train, X_test = create_features(df_train, df_test)\n",
    "y_train = df_train.loc[:, \"SalePrice\"]\n",
    "\n",
    "xgb = XGBRegressor(**xgb_params)\n",
    "# XGB minimizes MSE, but competition loss is RMSLE\n",
    "# So, we need to log-transform y to train and exp-transform the predictions\n",
    "xgb.fit(X_train, np.log(y))\n",
    "predictions = np.exp(xgb.predict(X_test))\n",
    "\n",
    "output = pd.DataFrame({'Id': X_test.index, 'SalePrice': predictions})\n",
    "output.to_csv('my_submission.csv', index=False)\n",
    "print(\"Your submission was successfully saved!\")"
   ]
  },
  {
   "cell_type": "markdown",
   "id": "fiscal-impact",
   "metadata": {
    "papermill": {
     "duration": 0.035538,
     "end_time": "2021-05-10T09:24:46.574244",
     "exception": false,
     "start_time": "2021-05-10T09:24:46.538706",
     "status": "completed"
    },
    "tags": []
   },
   "source": [
    "Before submitting, run a check to make sure your `test_preds` have the right format."
   ]
  },
  {
   "cell_type": "code",
   "execution_count": 29,
   "id": "damaged-rough",
   "metadata": {
    "execution": {
     "iopub.execute_input": "2021-05-10T09:24:46.652817Z",
     "iopub.status.busy": "2021-05-10T09:24:46.651800Z",
     "iopub.status.idle": "2021-05-10T09:24:46.658952Z",
     "shell.execute_reply": "2021-05-10T09:24:46.658055Z"
    },
    "papermill": {
     "duration": 0.048332,
     "end_time": "2021-05-10T09:24:46.659121",
     "exception": false,
     "start_time": "2021-05-10T09:24:46.610789",
     "status": "completed"
    },
    "tags": []
   },
   "outputs": [
    {
     "data": {
      "application/javascript": [
       "parent.postMessage({\"jupyterEvent\": \"custom.exercise_interaction\", \"data\": {\"outcomeType\": 4, \"interactionType\": 1, \"questionType\": 2, \"questionId\": \"1_CheckSubmittablePreds\", \"learnToolsVersion\": \"0.3.4\", \"valueTowardsCompletion\": 0.0, \"failureMessage\": \"\", \"exceptionClass\": \"\", \"trace\": \"\"}}, \"*\")"
      ],
      "text/plain": [
       "<IPython.core.display.Javascript object>"
      ]
     },
     "metadata": {},
     "output_type": "display_data"
    },
    {
     "data": {
      "text/markdown": [
       "<span style=\"color:#ccaa33\">Check:</span> When you've updated the starter code, `check()` will tell you whether your code is correct. Remember, you must create the following variable: `test_preds`"
      ],
      "text/plain": [
       "Check: When you've updated the starter code, `check()` will tell you whether your code is correct. Remember, you must create the following variable: `test_preds`"
      ]
     },
     "metadata": {},
     "output_type": "display_data"
    }
   ],
   "source": [
    "# Check your answer\n",
    "step_1.check()\n",
    "#step_1.solution()"
   ]
  },
  {
   "cell_type": "markdown",
   "id": "beginning-square",
   "metadata": {
    "papermill": {
     "duration": 0.03592,
     "end_time": "2021-05-10T09:24:46.731488",
     "exception": false,
     "start_time": "2021-05-10T09:24:46.695568",
     "status": "completed"
    },
    "tags": []
   },
   "source": [
    "# Test Your Work\n",
    "\n",
    "To test your results, you'll need to join the competition (if you haven't already).  So open a new window by clicking on [this link](https://www.kaggle.com/c/home-data-for-ml-course).  Then click on the **Join Competition** button.\n",
    "\n",
    "![join competition image](https://i.imgur.com/axBzctl.png)\n",
    "\n",
    "Next, follow the instructions below:\n",
    "1. Begin by clicking on the blue **Save Version** button in the top right corner of the window.  This will generate a pop-up window.  \n",
    "2. Ensure that the **Save and Run All** option is selected, and then click on the blue **Save** button.\n",
    "3. This generates a window in the bottom left corner of the notebook.  After it has finished running, click on the number to the right of the **Save Version** button.  This pulls up a list of versions on the right of the screen.  Click on the ellipsis **(...)** to the right of the most recent version, and select **Open in Viewer**.  This brings you into view mode of the same page. You will need to scroll down to get back to these instructions.\n",
    "4. Click on the **Output** tab on the right of the screen.  Then, click on the blue **Submit** button to submit your results to the leaderboard.\n",
    "\n",
    "You have now successfully submitted to the competition!\n",
    "\n",
    "If you want to keep working to improve your performance, select the blue **Edit** button in the top right of the screen. Then you can change your code and repeat the process. There's a lot of room to improve, and you will climb up the leaderboard as you work.\n",
    "\n",
    "\n",
    "# Continuing Your Progress\n",
    "There are many ways to improve your model, and **experimenting is a great way to learn at this point.**\n",
    "\n",
    "The best way to improve your model is to add features.  Look at the list of columns and think about what might affect home prices.  Some features will cause errors because of issues like missing values or non-numeric data types. \n",
    "\n",
    "The **[Intermediate Machine Learning](https://www.kaggle.com/learn/intermediate-machine-learning)** course will teach you how to handle these types of features. You will also learn to use **xgboost**, a technique giving even better accuracy than Random Forest.\n",
    "\n",
    "\n",
    "# Other Courses\n",
    "The **[Pandas](https://kaggle.com/Learn/Pandas)** course will give you the data manipulation skills to quickly go from conceptual idea to implementation in your data science projects. \n",
    "\n",
    "You are also ready for the **[Deep Learning](https://kaggle.com/Learn/Deep-Learning)** course, where you will build models with better-than-human level performance at computer vision tasks."
   ]
  },
  {
   "cell_type": "markdown",
   "id": "assisted-township",
   "metadata": {
    "papermill": {
     "duration": 0.037151,
     "end_time": "2021-05-10T09:24:46.804921",
     "exception": false,
     "start_time": "2021-05-10T09:24:46.767770",
     "status": "completed"
    },
    "tags": []
   },
   "source": [
    "---\n",
    "\n",
    "\n",
    "\n",
    "\n",
    "*Have questions or comments? Visit the [Learn Discussion forum](https://www.kaggle.com/learn-forum/161285) to chat with other Learners.*"
   ]
  }
 ],
 "metadata": {
  "kernelspec": {
   "display_name": "Python 3",
   "language": "python",
   "name": "python3"
  },
  "language_info": {
   "codemirror_mode": {
    "name": "ipython",
    "version": 3
   },
   "file_extension": ".py",
   "mimetype": "text/x-python",
   "name": "python",
   "nbconvert_exporter": "python",
   "pygments_lexer": "ipython3",
   "version": "3.7.9"
  },
  "papermill": {
   "default_parameters": {},
   "duration": 110.017045,
   "end_time": "2021-05-10T09:24:47.553239",
   "environment_variables": {},
   "exception": null,
   "input_path": "__notebook__.ipynb",
   "output_path": "__notebook__.ipynb",
   "parameters": {},
   "start_time": "2021-05-10T09:22:57.536194",
   "version": "2.3.2"
  }
 },
 "nbformat": 4,
 "nbformat_minor": 5
}
